{
 "cells": [
  {
   "cell_type": "code",
   "execution_count": 1,
   "metadata": {},
   "outputs": [],
   "source": [
    "##### C.A.L. Bailer-Jones, Practical Bayesian Inference, 2017\n",
    "##### Version 2017-03-24. CC-BY-4.0 licence (see README file)\n",
    "#\n",
    "# modified A. Schrimpf 12/2020\n",
    "# modified N. Netter 01/2021\n",
    "\n",
    "##### Bayesian inference of a 3-parameter linear model to 2D data\n",
    "#\n",
    "#\n",
    "# This script uses JAGS - Jet another Gibbs Sampler\n",
    "#\n",
    "# The following cell needs to be run to install\n",
    "# JAGS packages."
   ]
  },
  {
   "cell_type": "code",
   "execution_count": 9,
   "metadata": {},
   "outputs": [],
   "source": [
    "system(\"conda install -y -c conda-forge jags r-rjags\")\n",
    "Sys.setenv(http_proxy=\"http://www-proxy1.hrz.uni-marburg.de:3128\")\n",
    "Sys.setenv(https_proxy=\"http://www-proxy1.hrz.uni-marburg.de:3128\")\n",
    "install.packages(\"runjags\")\n",
    "install.packages(\"gplots\")"
   ]
  },
  {
   "cell_type": "code",
   "execution_count": 5,
   "metadata": {},
   "outputs": [
    {
     "name": "stderr",
     "output_type": "stream",
     "text": [
      "\n",
      "Attaching package: ‘gplots’\n",
      "\n",
      "\n",
      "The following object is masked from ‘package:stats’:\n",
      "\n",
      "    lowess\n",
      "\n",
      "\n"
     ]
    }
   ],
   "source": [
    "library(gplots) # for plotCI"
   ]
  },
  {
   "cell_type": "raw",
   "metadata": {},
   "source": [
    "library(gplots) # for plotCI\n",
    "\n",
    "# metropolis algorithm\n",
    "# source(\"metropolis.r\")\n",
    "\n",
    "# definition of linear model\n",
    "# prior\n",
    "# likelihood\n",
    "# posterior\n",
    "#\n",
    "# source(\"linearmodel_functions.r\") # provides logpost.linearmodel\n",
    "\n",
    "\n",
    "# Return c(log10(prior), log10(likelihood)) (each generally unnormalized) \n",
    "# of the linear model\n",
    "logpost.linearmodel <- function(theta, obsdata) {\n",
    "  logprior <- logprior.linearmodel(theta)\n",
    "  if(is.finite(logprior)) { # only evaluate model if parameters are sensible\n",
    "    return( loglike.linearmodel(theta, obsdata) ) \n",
    "  } else {\n",
    "    return( -Inf )\n",
    "  }\n",
    "}\n",
    "\n",
    "# orig\n",
    "## Return c(log10(prior), log10(likelihood)) (each generally unnormalized) \n",
    "## of the linear model\n",
    "#logpost.linearmodel <- function(theta, obsdata) {\n",
    "#  logprior <- logprior.linearmodel(theta)\n",
    "#  if(is.finite(logprior)) { # only evaluate model if parameters are sensible\n",
    "#    return( c(logprior, loglike.linearmodel(theta, obsdata)) ) \n",
    "#  } else {\n",
    "#    return( c(-Inf, -Inf) )\n",
    "#  }\n",
    "#}\n",
    "\n",
    "\n",
    "### Return log10(likelihood) (a scalar) for parameters theta and obsdata\n",
    "# Return log(likelihood) (a scalar) for parameters theta and obsdata\n",
    "# dnorm(..., log=TRUE) returns log base e, so multiply by 1/ln(10) = 0.434\n",
    "# to get log base 10\n",
    "loglike.linearmodel <- function(theta, obsdata) {\n",
    "  # convert alpha to b_1 and log10(ysig) to ysig\n",
    "  theta[2] <- tan(theta[2])\n",
    "  theta[3] <- exp(theta[3]) # 10^theta[3]\n",
    "  modPred <- drop( theta[1:2] %*% t(cbind(1,obsdata$x)) )\n",
    "  # Dimensions in mixed vector/matrix products: [Ndat] = [P] %*% [P x Ndat] \n",
    "  #logLike <- (1/log(10))*sum( dnorm(modPred - obsdata$y, mean=0,\n",
    "  #                                  sd=theta[3], log=TRUE) )\n",
    "  logLike <- sum( dnorm(modPred - obsdata$y, mean=0,\n",
    "                                    sd=theta[3], log=TRUE) )\n",
    "  return(logLike)\n",
    "}\n",
    "\n",
    "### Return log10(unnormalized prior) (a scalar)\n",
    "# Return log(unnormalized prior) (a scalar)\n",
    "logprior.linearmodel <- function(theta) {\n",
    "  b0Prior      <- dnorm(theta[1], mean=0, sd=2)\n",
    "  alphaPrior   <- 1\n",
    "  logysigPrior <- 1 \n",
    "  #logPrior <- sum( log10(b0Prior), log10(alphaPrior), log10(logysigPrior) )\n",
    "  logPrior <- sum( log(b0Prior), log(alphaPrior), log(logysigPrior) )\n",
    "  return(logPrior)\n",
    "}\n"
   ]
  },
  {
   "cell_type": "code",
   "execution_count": 6,
   "metadata": {},
   "outputs": [
    {
     "data": {
      "image/png": "[encoded data removed]",
      "text/plain": [
       "plot without title"
      ]
     },
     "metadata": {
      "image/png": {
       "height": 480,
       "width": 480
      },
      "text/plain": {
       "height": 480,
       "width": 480
      }
     },
     "output_type": "display_data"
    }
   ],
   "source": [
    "########## Define true model and simulate experimental data from it\n",
    "\n",
    "set.seed(50)\n",
    "Ndat <- 10\n",
    "x <- sort(runif(Ndat, 0, 10))\n",
    "sigTrue <- 1 # 0.1 # 1\n",
    "modMat <- c(0,1) # 1 x P vector: coefficients, b_p, of sum_{p=0} b_p*x^p\n",
    "\n",
    "y <- cbind(1,x) %*% as.matrix(modMat) + rnorm(Ndat, 0, sigTrue)\n",
    "\n",
    "# Dimensions in the above: [Ndat x 1] = [Ndat x P] %*% [P x 1] + [Ndat]\n",
    "# cbind does the logical thing when combining a scalar and vector, \n",
    "# then do vector addition\n",
    "\n",
    "y <- drop(y) # converts into a vector\n",
    "\n",
    "# plot data and true model\n",
    "\n",
    "library(repr)\n",
    "options(repr.plot.width=8,repr.plot.height=8)\n",
    "\n",
    "# pdf(\"linearmodel_data.pdf\", width=4, height=4)\n",
    "\n",
    "par(mfrow=c(1,1), mar=c(3.5,3.5,0.5,0.5), oma=0.1*c(1,1,1,1), \n",
    "    mgp=c(2.0,0.8,0), cex=1.0)\n",
    "plot(x, y, xlim=c(-0.5,9.5), ylim=c(-1,9), xaxs=\"i\", yaxs=\"i\")\n",
    "abline(a=modMat[1], b=modMat[2], col=\"red\") # true model\n",
    "\n",
    "# dev.off()\n",
    "\n",
    "# True parameters, transformed to conform with model to be used below\n",
    "# thetaTrue <- c(modMat[1], atan(modMat[2]), log10(sigTrue))\n",
    "thetaTrue <- c(modMat[1], atan(modMat[2]), log(sigTrue))\n",
    "obsdata <- data.frame(cbind(x,y)) # columns must be named \"x\" and \"y\"\n",
    "rm(x,y)\n",
    "\n"
   ]
  },
  {
   "cell_type": "code",
   "execution_count": 7,
   "metadata": {},
   "outputs": [
    {
     "data": {
      "text/html": [
       "10"
      ],
      "text/latex": [
       "10"
      ],
      "text/markdown": [
       "10"
      ],
      "text/plain": [
       "[1] 10"
      ]
     },
     "metadata": {},
     "output_type": "display_data"
    }
   ],
   "source": [
    "length(obsdata$x)"
   ]
  },
  {
   "cell_type": "code",
   "execution_count": 8,
   "metadata": {},
   "outputs": [
    {
     "name": "stderr",
     "output_type": "stream",
     "text": [
      "Loading required package: coda\n",
      "\n",
      "Linked to JAGS 4.3.0\n",
      "\n",
      "Loaded modules: basemod,bugs\n",
      "\n"
     ]
    }
   ],
   "source": [
    "# install.packages('rjags')\n",
    "library(rjags)\n",
    "library(runjags)\n",
    "\n",
    "# install.packages('mcmc')\n",
    "#library(mcmc)\n",
    "\n",
    "#\n",
    "# library(fmcmc)\n",
    "# https://www.rdocumentation.org/packages/fmcmc/versions/0.4-0/topics/MCMC\n"
   ]
  },
  {
   "cell_type": "markdown",
   "metadata": {},
   "source": [
    "### 1. runjags"
   ]
  },
  {
   "cell_type": "raw",
   "metadata": {},
   "source": [
    "model.jags <- \"\n",
    "model{\n",
    "    for (i in 1:length(obsx)){\n",
    "        modPred[i] <- theta_1 + tan(theta_2)*obsx[i]\n",
    "        obsy[i] ~ dnorm(modPred[i], pow(exp(theta_3),-2))\n",
    "    }\n",
    "    # Gaussian prior on b0\n",
    "    theta_1 ~  dnorm(b0, pow(2,-2))\n",
    "    # uniform prior on alpha, logsig\n",
    "    theta_2  ~ dunif(0,2*3.14)\n",
    "    theta_3  ~ dunif(-1.0E7,1.0e+7)\n",
    "\n",
    "}\n",
    "\"\n",
    "\n",
    "thetaInit <- c(2, pi/8, log(3))\n",
    "\n",
    "#inits=list(thetaInit[1], thetaInit[2], thetaInit[3] ),\n",
    "\n",
    "results <- run.jags(model.jags,  data=list('obsx'=obsdata$x, 'obsy' = obsdata$y, 'b0'=2), \n",
    "                    inits=list('theta_1'=2, 'theta_2'=pi/8, 'theta_3'=log(3)),\n",
    "                    monitor=c('theta_1','theta_2','theta_3'), n.chains=3, method='rjags', sample=50000) # , plots=TRUE)\n"
   ]
  },
  {
   "cell_type": "code",
   "execution_count": 9,
   "metadata": {},
   "outputs": [
    {
     "name": "stdout",
     "output_type": "stream",
     "text": [
      "Compiling rjags model...\n",
      "Calling the simulation using the rjags method...\n",
      "Adapting the model for 1000 iterations...\n",
      "Burning in the model for 4000 iterations...\n",
      "Running the model for 50000 iterations...\n",
      "Simulation complete\n",
      "Calculating summary statistics...\n",
      "Calculating the Gelman-Rubin statistic for 3 variables....\n",
      "Finished running the simulation\n"
     ]
    }
   ],
   "source": [
    "model.jags <- \"\n",
    "model{\n",
    "    for (i in 1:length(obsx)){\n",
    "        modPred[i] <- theta_1 + tan(theta_2)*obsx[i]\n",
    "        obsy[i] ~ dnorm(modPred[i], pow(exp(theta_3),-2))\n",
    "    }\n",
    "    # Gaussian prior on offset\n",
    "    theta_1 ~  dnorm(0, pow(10,-2))\n",
    "    # uniform prior on alpha, logsig\n",
    "    theta_2  ~ dunif(-3.2,3.2) # -pi ... +pi\n",
    "    theta_3  ~ dunif(-1.0E7,1.0e+7)\n",
    "\n",
    "}\n",
    "\"\n",
    "\n",
    "thetaInit <- c(2, pi/8, log(3))\n",
    "\n",
    "\n",
    "results <- run.jags(model.jags,  data=list('obsx'=obsdata$x, 'obsy' = obsdata$y), \n",
    "                    inits=list(list('theta_1'=thetaInit[1], 'theta_2'=thetaInit[2], 'theta_3'=thetaInit[3]),\n",
    "                               list('theta_1'=thetaInit[1], 'theta_2'=thetaInit[2], 'theta_3'=thetaInit[3]),\n",
    "                               list('theta_1'=thetaInit[1], 'theta_2'=thetaInit[2], 'theta_3'=thetaInit[3])),\n",
    "                    monitor=c('theta_1','theta_2','theta_3'), n.chains=3, method='rjags', sample=50000) # , plots=TRUE)\n"
   ]
  },
  {
   "cell_type": "code",
   "execution_count": 10,
   "metadata": {},
   "outputs": [
    {
     "name": "stdout",
     "output_type": "stream",
     "text": [
      "\n",
      "JAGS model summary statistics from 150000 samples (chains = 3; adapt+burnin = 5000):\n",
      "                                                                           \n",
      "         Lower95   Median Upper95     Mean       SD Mode      MCerr MC%ofSD\n",
      "theta_1 -0.88316 0.041378  1.0715 0.050712  0.48759   --  0.0036703     0.8\n",
      "theta_2  0.66265  0.76921 0.86425  0.76614 0.050837   -- 0.00039983     0.8\n",
      "theta_3 -0.72008 -0.25925 0.30429 -0.23565   0.2678   --  0.0016669     0.6\n",
      "                             \n",
      "        SSeff    AC.10   psrf\n",
      "theta_1 17649  0.07524 1.0002\n",
      "theta_2 16166 0.089978 1.0003\n",
      "theta_3 25812 0.018117      1\n",
      "\n",
      "Total time taken: 2.7 seconds\n",
      "\n"
     ]
    }
   ],
   "source": [
    "print(results)"
   ]
  },
  {
   "cell_type": "code",
   "execution_count": 11,
   "metadata": {
    "scrolled": false
   },
   "outputs": [
    {
     "name": "stdout",
     "output_type": "stream",
     "text": [
      "List of 44\n",
      " $ mcmc             :List of 3\n",
      "  ..$ : 'mcmc' num [1:50000, 1:3] 1.03436 -0.53808 0.38723 0.00146 0.54924 ...\n",
      "  .. ..- attr(*, \"dimnames\")=List of 2\n",
      "  .. .. ..$ : chr [1:50000] \"5001\" \"5002\" \"5003\" \"5004\" ...\n",
      "  .. .. ..$ : chr [1:3] \"theta_1\" \"theta_2\" \"theta_3\"\n",
      "  .. ..- attr(*, \"mcpar\")= num [1:3] 5001 55000 1\n",
      "  ..$ : 'mcmc' num [1:50000, 1:3] -0.07779 0.00389 0.41866 -0.16976 -0.25633 ...\n",
      "  .. ..- attr(*, \"dimnames\")=List of 2\n",
      "  .. .. ..$ : chr [1:50000] \"5001\" \"5002\" \"5003\" \"5004\" ...\n",
      "  .. .. ..$ : chr [1:3] \"theta_1\" \"theta_2\" \"theta_3\"\n",
      "  .. ..- attr(*, \"mcpar\")= num [1:3] 5001 55000 1\n",
      "  ..$ : 'mcmc' num [1:50000, 1:3] -0.79 -0.963 -0.513 0.329 -0.602 ...\n",
      "  .. ..- attr(*, \"dimnames\")=List of 2\n",
      "  .. .. ..$ : chr [1:50000] \"5001\" \"5002\" \"5003\" \"5004\" ...\n",
      "  .. .. ..$ : chr [1:3] \"theta_1\" \"theta_2\" \"theta_3\"\n",
      "  .. ..- attr(*, \"mcpar\")= num [1:3] 5001 55000 1\n",
      "  ..- attr(*, \"class\")= chr \"mcmc.list\"\n",
      " $ deviance.table   : logi NA\n",
      " $ deviance.sum     : logi NA\n",
      " $ pd               : logi NA\n",
      " $ end.state        : 'runjagsinits' chr [1:3] \"\\\".RNG.state\\\" <- c(25474, 7533, 18168)\\n\\\"theta_1\\\" <- 0.687519274318584\\n\\\"theta_2\\\" <- 0.709495330682195\\n\\\"\"| __truncated__ \"\\\".RNG.state\\\" <- c(348501428, 131280134)\\n\\\"theta_1\\\" <- -0.27451488290549\\n\\\"theta_2\\\" <- 0.780258222765708\\n\"| __truncated__ \"\\\".RNG.state\\\" <- c(2145860146, 791855589)\\n\\\"theta_1\\\" <- -0.411652721485343\\n\\\"theta_2\\\" <- 0.817948405025637\"| __truncated__\n",
      " $ samplers         :'data.frame':\t3 obs. of  3 variables:\n",
      "  ..$ Index.No: num [1:3] 1 2 3\n",
      "  ..$ Sampler : chr [1:3] \"bugs::ConjugateNormal\" \"base::RealSlicer\" \"base::RealSlicer\"\n",
      "  ..$ Node    : chr [1:3] \"theta_1\" \"theta_2\" \"theta_3\"\n",
      " $ burnin           : num 5000\n",
      " $ sample           : int 50000\n",
      " $ thin             : num 1\n",
      " $ model            : 'runjagsmodel' chr \"model{\\nfor (i in 1:length(obsx)){\\nmodPred[i] <- theta_1 + tan(theta_2)*obsx[i]\\nobsy[i] ~ dnorm(modPred[i], p\"| __truncated__\n",
      " $ data             : 'runjagsdata' chr \"\\\"obsx\\\" <- c(0.420296182855964, 0.447038763668388, 1.07541227247566, 2.00004896614701, 4.37659863382578, 5.131\"| __truncated__\n",
      " $ monitor          : chr [1:3] \"theta_1\" \"theta_2\" \"theta_3\"\n",
      " $ noread.monitor   : chr(0) \n",
      " $ modules          : chr \"\"\n",
      " $ factories        : chr \"\"\n",
      " $ response         : logi NA\n",
      " $ residual         : logi NA\n",
      " $ fitted           : logi NA\n",
      " $ method           : chr \"rjags\"\n",
      " $ method.options   :List of 10\n",
      "  ..$ n.sims      : logi NA\n",
      "  ..$ cl          : logi NA\n",
      "  ..$ remote.jags : chr \"*//*usefindjags*//*\"\n",
      "  ..$ rjags       :List of 8\n",
      "  .. ..$ ptr      :function ()  \n",
      "  .. ..$ data     :function ()  \n",
      "  .. ..$ model    :function ()  \n",
      "  .. ..$ state    :function (internal = FALSE)  \n",
      "  .. ..$ nchain   :function ()  \n",
      "  .. ..$ iter     :function ()  \n",
      "  .. ..$ sync     :function ()  \n",
      "  .. ..$ recompile:function ()  \n",
      "  .. ..- attr(*, \"class\")= chr \"jags\"\n",
      "  ..$ by          : logi NA\n",
      "  ..$ progress.bar: Named chr \"text\"\n",
      "  .. ..- attr(*, \"names\")= chr \"jags.pb\"\n",
      "  ..$ jags        : chr \"/opt/conda/bin/jags\"\n",
      "  ..$ silent.jags : logi FALSE\n",
      "  ..$ jags.refresh: num 0.1\n",
      "  ..$ batch.jags  : logi FALSE\n",
      " $ timetaken        : 'difftime' num 2.77338242530823\n",
      "  ..- attr(*, \"units\")= chr \"secs\"\n",
      " $ runjags.version  : chr [1:6] \"2.0.4-6\" \"R version 3.6.3 (2020-02-29)\" \"unix\" \"X11\" ...\n",
      " $ summaries        : num [1:3, 1:11] -0.8832 0.6626 -0.7201 0.0414 0.7692 ...\n",
      "  ..- attr(*, \"dimnames\")=List of 2\n",
      "  .. ..$ : chr [1:3] \"theta_1\" \"theta_2\" \"theta_3\"\n",
      "  .. ..$ : chr [1:11] \"Lower95\" \"Median\" \"Upper95\" \"Mean\" ...\n",
      " $ summary          :List of 6\n",
      "  ..$ statistics: num [1:3, 1:4] 0.0507 0.7661 -0.2357 0.4876 0.0508 ...\n",
      "  .. ..- attr(*, \"dimnames\")=List of 2\n",
      "  .. .. ..$ : chr [1:3] \"theta_1\" \"theta_2\" \"theta_3\"\n",
      "  .. .. ..$ : chr [1:4] \"Mean\" \"SD\" \"Naive SE\" \"Time-series SE\"\n",
      "  ..$ quantiles : num [1:3, 1:5] -0.908 0.655 -0.692 -0.251 0.738 ...\n",
      "  .. ..- attr(*, \"dimnames\")=List of 2\n",
      "  .. .. ..$ : chr [1:3] \"theta_1\" \"theta_2\" \"theta_3\"\n",
      "  .. .. ..$ : chr [1:5] \"2.5%\" \"25%\" \"50%\" \"75%\" ...\n",
      "  ..$ start     : num 5001\n",
      "  ..$ end       : num 54996\n",
      "  ..$ thin      : num 5\n",
      "  ..$ nchain    : int 3\n",
      "  ..- attr(*, \"class\")= chr \"summary.mcmc\"\n",
      " $ HPD              : num [1:3, 1:3] -0.8832 0.6626 -0.7201 0.0414 0.7692 ...\n",
      "  ..- attr(*, \"dimnames\")=List of 2\n",
      "  .. ..$ : chr [1:3] \"theta_1\" \"theta_2\" \"theta_3\"\n",
      "  .. ..$ : chr [1:3] \"Lower95\" \"Median\" \"Upper95\"\n",
      " $ hpd              : num [1:3, 1:3] -0.8832 0.6626 -0.7201 0.0414 0.7692 ...\n",
      "  ..- attr(*, \"dimnames\")=List of 2\n",
      "  .. ..$ : chr [1:3] \"theta_1\" \"theta_2\" \"theta_3\"\n",
      "  .. ..$ : chr [1:3] \"Lower95\" \"Median\" \"Upper95\"\n",
      " $ mcse             :List of 3\n",
      "  ..$ sseff: Named num [1:3] 17649 16166 25812\n",
      "  .. ..- attr(*, \"names\")= chr [1:3] \"theta_1\" \"theta_2\" \"theta_3\"\n",
      "  ..$ ssd  : Named num [1:3] 0.4876 0.0508 0.2678\n",
      "  .. ..- attr(*, \"names\")= chr [1:3] \"theta_1\" \"theta_2\" \"theta_3\"\n",
      "  ..$ mcse : Named num [1:3] 0.00367 0.0004 0.00167\n",
      "  .. ..- attr(*, \"names\")= chr [1:3] \"theta_1\" \"theta_2\" \"theta_3\"\n",
      "  ..- attr(*, \"class\")= chr \"mcsestats\"\n",
      " $ psrf             :List of 3\n",
      "  ..$ psrf       : num [1:3, 1:2] 1 1 1 1 1 ...\n",
      "  .. ..- attr(*, \"dimnames\")=List of 2\n",
      "  .. .. ..$ : chr [1:3] \"theta_1\" \"theta_2\" \"theta_3\"\n",
      "  .. .. ..$ : chr [1:2] \"Point est.\" \"Upper C.I.\"\n",
      "  ..$ mpsrf      : num 1\n",
      "  ..$ psrf.target: num 1.05\n",
      "  ..- attr(*, \"class\")= chr \"gelmanwithtarget\"\n",
      " $ autocorr         : num [1, 1:3] 0.0752 0.09 0.0181\n",
      "  ..- attr(*, \"dimnames\")=List of 2\n",
      "  .. ..$ : chr \"Lag 10\"\n",
      "  .. ..$ : chr [1:3] \"theta_1\" \"theta_2\" \"theta_3\"\n",
      " $ crosscorr        : 'crosscorrstats' num [1:3, 1:3] 1 -0.8264 0.0557 -0.8264 1 ...\n",
      "  ..- attr(*, \"dimnames\")=List of 2\n",
      "  .. ..$ : chr [1:3] \"theta_1\" \"theta_2\" \"theta_3\"\n",
      "  .. ..$ : chr [1:3] \"theta_1\" \"theta_2\" \"theta_3\"\n",
      " $ truestochastic   : Named logi [1:3] TRUE TRUE TRUE\n",
      "  ..- attr(*, \"names\")= chr [1:3] \"theta_1\" \"theta_2\" \"theta_3\"\n",
      " $ semistochastic   : Named logi [1:3] FALSE FALSE FALSE\n",
      "  ..- attr(*, \"names\")= chr [1:3] \"theta_1\" \"theta_2\" \"theta_3\"\n",
      " $ nonstochastic    : Named logi [1:3] FALSE FALSE FALSE\n",
      "  ..- attr(*, \"names\")= chr [1:3] \"theta_1\" \"theta_2\" \"theta_3\"\n",
      " $ discrete         : Named logi [1:3] FALSE FALSE FALSE\n",
      "  ..- attr(*, \"names\")= chr [1:3] \"theta_1\" \"theta_2\" \"theta_3\"\n",
      " $ trace            : chr \"Predrawn plots not available - see ?add.summary or ?plot.runjags\"\n",
      " $ density          : chr \"Predrawn plots not available - see ?add.summary or ?plot.runjags\"\n",
      " $ histogram        : chr \"Predrawn plots not available - see ?add.summary or ?plot.runjags\"\n",
      " $ ecdfplot         : chr \"Predrawn plots not available - see ?add.summary or ?plot.runjags\"\n",
      " $ key              : chr \"Predrawn plots not available - see ?add.summary or ?plot.runjags\"\n",
      " $ acplot           : chr \"Predrawn plots not available - see ?add.summary or ?plot.runjags\"\n",
      " $ ccplot           : chr \"Predrawn plots not available - see ?add.summary or ?plot.runjags\"\n",
      " $ summary.available: logi TRUE\n",
      " $ summary.pars     :List of 19\n",
      "  ..$ plots            : logi FALSE\n",
      "  ..$ plot.type        : chr [1:6] \"trace\" \"ecdf\" \"histogram\" \"autocorr\" ...\n",
      "  ..$ vars             : logi NA\n",
      "  ..$ mutate           : NULL\n",
      "  ..$ psrf.target      : num 1.05\n",
      "  ..$ normalise.mcmc   : logi TRUE\n",
      "  ..$ modeest.opts     : list()\n",
      "  ..$ confidence       : num 0.95\n",
      "  ..$ autocorr.lags    : num 10\n",
      "  ..$ custom           : NULL\n",
      "  ..$ silent.jags      : logi FALSE\n",
      "  ..$ col              : logi NA\n",
      "  ..$ trace.iters      : num 1000\n",
      "  ..$ separate.chains  : logi FALSE\n",
      "  ..$ trace.options    : list()\n",
      "  ..$ density.options  : list()\n",
      "  ..$ histogram.options: list()\n",
      "  ..$ ecdfplot.options : list()\n",
      "  ..$ acplot.options   : list()\n",
      " $ dic              : chr \"DIC statistics have not been stored internally - see ?extract.runjags\"\n",
      " - attr(*, \"class\")= chr \"runjags\"\n"
     ]
    }
   ],
   "source": [
    "str(results)"
   ]
  },
  {
   "cell_type": "code",
   "execution_count": 12,
   "metadata": {},
   "outputs": [
    {
     "data": {
      "text/html": [
       "<table>\n",
       "<caption>A matrix: 3 × 11 of type dbl</caption>\n",
       "<thead>\n",
       "\t<tr><th></th><th scope=col>Lower95</th><th scope=col>Median</th><th scope=col>Upper95</th><th scope=col>Mean</th><th scope=col>SD</th><th scope=col>Mode</th><th scope=col>MCerr</th><th scope=col>MC%ofSD</th><th scope=col>SSeff</th><th scope=col>AC.10</th><th scope=col>psrf</th></tr>\n",
       "</thead>\n",
       "<tbody>\n",
       "\t<tr><th scope=row>theta_1</th><td>-0.8831566</td><td> 0.04137795</td><td>1.0714570</td><td> 0.0507121</td><td>0.48758640</td><td>NA</td><td>0.0036702655</td><td>0.8</td><td>17649</td><td>0.07524019</td><td>1.000169</td></tr>\n",
       "\t<tr><th scope=row>theta_2</th><td> 0.6626457</td><td> 0.76920541</td><td>0.8642488</td><td> 0.7661412</td><td>0.05083685</td><td>NA</td><td>0.0003998278</td><td>0.8</td><td>16166</td><td>0.08997786</td><td>1.000269</td></tr>\n",
       "\t<tr><th scope=row>theta_3</th><td>-0.7200828</td><td>-0.25925318</td><td>0.3042920</td><td>-0.2356526</td><td>0.26780156</td><td>NA</td><td>0.0016668632</td><td>0.6</td><td>25812</td><td>0.01811739</td><td>1.000016</td></tr>\n",
       "</tbody>\n",
       "</table>\n"
      ],
      "text/latex": [
       "A matrix: 3 × 11 of type dbl\n",
       "\\begin{tabular}{r|lllllllllll}\n",
       "  & Lower95 & Median & Upper95 & Mean & SD & Mode & MCerr & MC\\%ofSD & SSeff & AC.10 & psrf\\\\\n",
       "\\hline\n",
       "\ttheta\\_1 & -0.8831566 &  0.04137795 & 1.0714570 &  0.0507121 & 0.48758640 & NA & 0.0036702655 & 0.8 & 17649 & 0.07524019 & 1.000169\\\\\n",
       "\ttheta\\_2 &  0.6626457 &  0.76920541 & 0.8642488 &  0.7661412 & 0.05083685 & NA & 0.0003998278 & 0.8 & 16166 & 0.08997786 & 1.000269\\\\\n",
       "\ttheta\\_3 & -0.7200828 & -0.25925318 & 0.3042920 & -0.2356526 & 0.26780156 & NA & 0.0016668632 & 0.6 & 25812 & 0.01811739 & 1.000016\\\\\n",
       "\\end{tabular}\n"
      ],
      "text/markdown": [
       "\n",
       "A matrix: 3 × 11 of type dbl\n",
       "\n",
       "| <!--/--> | Lower95 | Median | Upper95 | Mean | SD | Mode | MCerr | MC%ofSD | SSeff | AC.10 | psrf |\n",
       "|---|---|---|---|---|---|---|---|---|---|---|---|\n",
       "| theta_1 | -0.8831566 |  0.04137795 | 1.0714570 |  0.0507121 | 0.48758640 | NA | 0.0036702655 | 0.8 | 17649 | 0.07524019 | 1.000169 |\n",
       "| theta_2 |  0.6626457 |  0.76920541 | 0.8642488 |  0.7661412 | 0.05083685 | NA | 0.0003998278 | 0.8 | 16166 | 0.08997786 | 1.000269 |\n",
       "| theta_3 | -0.7200828 | -0.25925318 | 0.3042920 | -0.2356526 | 0.26780156 | NA | 0.0016668632 | 0.6 | 25812 | 0.01811739 | 1.000016 |\n",
       "\n"
      ],
      "text/plain": [
       "        Lower95    Median      Upper95   Mean       SD         Mode\n",
       "theta_1 -0.8831566  0.04137795 1.0714570  0.0507121 0.48758640 NA  \n",
       "theta_2  0.6626457  0.76920541 0.8642488  0.7661412 0.05083685 NA  \n",
       "theta_3 -0.7200828 -0.25925318 0.3042920 -0.2356526 0.26780156 NA  \n",
       "        MCerr        MC%ofSD SSeff AC.10      psrf    \n",
       "theta_1 0.0036702655 0.8     17649 0.07524019 1.000169\n",
       "theta_2 0.0003998278 0.8     16166 0.08997786 1.000269\n",
       "theta_3 0.0016668632 0.6     25812 0.01811739 1.000016"
      ]
     },
     "metadata": {},
     "output_type": "display_data"
    }
   ],
   "source": [
    "summary(results)"
   ]
  },
  {
   "cell_type": "code",
   "execution_count": 13,
   "metadata": {},
   "outputs": [
    {
     "ename": "ERROR",
     "evalue": "Error in library(\"bayesplot\"): there is no package called ‘bayesplot’\n",
     "output_type": "error",
     "traceback": [
      "Error in library(\"bayesplot\"): there is no package called ‘bayesplot’\nTraceback:\n",
      "1. library(\"bayesplot\")"
     ]
    }
   ],
   "source": [
    "# install.packages('bayesplot')\n",
    "library(\"bayesplot\")\n",
    "library(\"ggplot2\")"
   ]
  },
  {
   "cell_type": "code",
   "execution_count": 14,
   "metadata": {},
   "outputs": [
    {
     "data": {
      "text/plain": [
       "expression(b[0], paste(alpha, \" / rad\"), paste(log, \" \", sigma))"
      ]
     },
     "metadata": {},
     "output_type": "display_data"
    }
   ],
   "source": [
    "parnames <- c(expression(b[0]), expression(paste(alpha, \" / rad\")), \n",
    "             expression(paste(log, \" \", sigma)))\n",
    "parnames"
   ]
  },
  {
   "cell_type": "code",
   "execution_count": 15,
   "metadata": {},
   "outputs": [
    {
     "ename": "ERROR",
     "evalue": "Error in mcmc_pairs(results[[1]]): could not find function \"mcmc_pairs\"\n",
     "output_type": "error",
     "traceback": [
      "Error in mcmc_pairs(results[[1]]): could not find function \"mcmc_pairs\"\nTraceback:\n"
     ]
    }
   ],
   "source": [
    "\n",
    "mcmc_pairs(results[[1]])"
   ]
  },
  {
   "cell_type": "code",
   "execution_count": 16,
   "metadata": {},
   "outputs": [
    {
     "ename": "ERROR",
     "evalue": "Error in color_scheme_set(\"red\"): could not find function \"color_scheme_set\"\n",
     "output_type": "error",
     "traceback": [
      "Error in color_scheme_set(\"red\"): could not find function \"color_scheme_set\"\nTraceback:\n"
     ]
    }
   ],
   "source": [
    "# add contour\n",
    "color_scheme_set(\"red\")\n",
    "p21 <- mcmc_scatter(as.matrix(results[[1]]), pars = c('theta_1','theta_2'), size = 0.5, alpha = 0.1)\n",
    "p21 + stat_density_2d(color = \"black\", size = .5)\n",
    "p22 <- mcmc_scatter(as.matrix(results[[1]]), pars = c('theta_1','theta_3'), size = 0.5, alpha = 0.1)\n",
    "p22 + stat_density_2d(color = \"black\", size = .5)\n",
    "p23 <- mcmc_scatter(as.matrix(results[[1]]), pars = c('theta_2','theta_3'), size = 0.5, alpha = 0.1)\n",
    "p23 + stat_density_2d(color = \"black\", size = .5)"
   ]
  },
  {
   "cell_type": "code",
   "execution_count": 17,
   "metadata": {},
   "outputs": [
    {
     "data": {
      "text/html": [
       "<table>\n",
       "<caption>A matrix: 3 × 11 of type dbl</caption>\n",
       "<thead>\n",
       "\t<tr><th></th><th scope=col>Lower95</th><th scope=col>Median</th><th scope=col>Upper95</th><th scope=col>Mean</th><th scope=col>SD</th><th scope=col>Mode</th><th scope=col>MCerr</th><th scope=col>MC%ofSD</th><th scope=col>SSeff</th><th scope=col>AC.10</th><th scope=col>psrf</th></tr>\n",
       "</thead>\n",
       "<tbody>\n",
       "\t<tr><th scope=row>theta_1</th><td>-0.8831566</td><td> 0.04137795</td><td>1.0714570</td><td> 0.0507121</td><td>0.48758640</td><td>NA</td><td>0.0036702655</td><td>0.8</td><td>17649</td><td>0.07524019</td><td>1.000169</td></tr>\n",
       "\t<tr><th scope=row>theta_2</th><td> 0.6626457</td><td> 0.76920541</td><td>0.8642488</td><td> 0.7661412</td><td>0.05083685</td><td>NA</td><td>0.0003998278</td><td>0.8</td><td>16166</td><td>0.08997786</td><td>1.000269</td></tr>\n",
       "\t<tr><th scope=row>theta_3</th><td>-0.7200828</td><td>-0.25925318</td><td>0.3042920</td><td>-0.2356526</td><td>0.26780156</td><td>NA</td><td>0.0016668632</td><td>0.6</td><td>25812</td><td>0.01811739</td><td>1.000016</td></tr>\n",
       "</tbody>\n",
       "</table>\n"
      ],
      "text/latex": [
       "A matrix: 3 × 11 of type dbl\n",
       "\\begin{tabular}{r|lllllllllll}\n",
       "  & Lower95 & Median & Upper95 & Mean & SD & Mode & MCerr & MC\\%ofSD & SSeff & AC.10 & psrf\\\\\n",
       "\\hline\n",
       "\ttheta\\_1 & -0.8831566 &  0.04137795 & 1.0714570 &  0.0507121 & 0.48758640 & NA & 0.0036702655 & 0.8 & 17649 & 0.07524019 & 1.000169\\\\\n",
       "\ttheta\\_2 &  0.6626457 &  0.76920541 & 0.8642488 &  0.7661412 & 0.05083685 & NA & 0.0003998278 & 0.8 & 16166 & 0.08997786 & 1.000269\\\\\n",
       "\ttheta\\_3 & -0.7200828 & -0.25925318 & 0.3042920 & -0.2356526 & 0.26780156 & NA & 0.0016668632 & 0.6 & 25812 & 0.01811739 & 1.000016\\\\\n",
       "\\end{tabular}\n"
      ],
      "text/markdown": [
       "\n",
       "A matrix: 3 × 11 of type dbl\n",
       "\n",
       "| <!--/--> | Lower95 | Median | Upper95 | Mean | SD | Mode | MCerr | MC%ofSD | SSeff | AC.10 | psrf |\n",
       "|---|---|---|---|---|---|---|---|---|---|---|---|\n",
       "| theta_1 | -0.8831566 |  0.04137795 | 1.0714570 |  0.0507121 | 0.48758640 | NA | 0.0036702655 | 0.8 | 17649 | 0.07524019 | 1.000169 |\n",
       "| theta_2 |  0.6626457 |  0.76920541 | 0.8642488 |  0.7661412 | 0.05083685 | NA | 0.0003998278 | 0.8 | 16166 | 0.08997786 | 1.000269 |\n",
       "| theta_3 | -0.7200828 | -0.25925318 | 0.3042920 | -0.2356526 | 0.26780156 | NA | 0.0016668632 | 0.6 | 25812 | 0.01811739 | 1.000016 |\n",
       "\n"
      ],
      "text/plain": [
       "        Lower95    Median      Upper95   Mean       SD         Mode\n",
       "theta_1 -0.8831566  0.04137795 1.0714570  0.0507121 0.48758640 NA  \n",
       "theta_2  0.6626457  0.76920541 0.8642488  0.7661412 0.05083685 NA  \n",
       "theta_3 -0.7200828 -0.25925318 0.3042920 -0.2356526 0.26780156 NA  \n",
       "        MCerr        MC%ofSD SSeff AC.10      psrf    \n",
       "theta_1 0.0036702655 0.8     17649 0.07524019 1.000169\n",
       "theta_2 0.0003998278 0.8     16166 0.08997786 1.000269\n",
       "theta_3 0.0016668632 0.6     25812 0.01811739 1.000016"
      ]
     },
     "metadata": {},
     "output_type": "display_data"
    }
   ],
   "source": [
    "summary(results)"
   ]
  },
  {
   "cell_type": "code",
   "execution_count": 18,
   "metadata": {},
   "outputs": [
    {
     "data": {
      "text/html": [
       "0.0507120982523499"
      ],
      "text/latex": [
       "0.0507120982523499"
      ],
      "text/markdown": [
       "0.0507120982523499"
      ],
      "text/plain": [
       "[1] 0.0507121"
      ]
     },
     "metadata": {},
     "output_type": "display_data"
    }
   ],
   "source": [
    "summary(results)[1,4]"
   ]
  },
  {
   "cell_type": "code",
   "execution_count": 19,
   "metadata": {},
   "outputs": [
    {
     "data": {
      "text/html": [
       "<style>\n",
       ".list-inline {list-style: none; margin:0; padding: 0}\n",
       ".list-inline>li {display: inline-block}\n",
       ".list-inline>li:not(:last-child)::after {content: \"\\00b7\"; padding: 0 .5ex}\n",
       "</style>\n",
       "<ol class=list-inline><li>0.0507120982523499</li><li>0.766141185729065</li><li>-0.235652564135021</li></ol>\n"
      ],
      "text/latex": [
       "\\begin{enumerate*}\n",
       "\\item 0.0507120982523499\n",
       "\\item 0.766141185729065\n",
       "\\item -0.235652564135021\n",
       "\\end{enumerate*}\n"
      ],
      "text/markdown": [
       "1. 0.0507120982523499\n",
       "2. 0.766141185729065\n",
       "3. -0.235652564135021\n",
       "\n",
       "\n"
      ],
      "text/plain": [
       "[1]  0.0507121  0.7661412 -0.2356526"
      ]
     },
     "metadata": {},
     "output_type": "display_data"
    }
   ],
   "source": [
    "thetaMean <- thetaTrue\n",
    "thetaMean[1] <- summary(results)[1,4]\n",
    "thetaMean[2] <- summary(results)[2,4]\n",
    "thetaMean[3] <- summary(results)[3,4]\n",
    "\n",
    "thetaMean"
   ]
  },
  {
   "cell_type": "code",
   "execution_count": 20,
   "metadata": {},
   "outputs": [
    {
     "data": {
      "text/html": [
       "0.96220911149701"
      ],
      "text/latex": [
       "0.96220911149701"
      ],
      "text/markdown": [
       "0.96220911149701"
      ],
      "text/plain": [
       "[1] 0.9622091"
      ]
     },
     "metadata": {},
     "output_type": "display_data"
    },
    {
     "data": {
      "text/html": [
       "0.790055119737791"
      ],
      "text/latex": [
       "0.790055119737791"
      ],
      "text/markdown": [
       "0.790055119737791"
      ],
      "text/plain": [
       "[1] 0.7900551"
      ]
     },
     "metadata": {},
     "output_type": "display_data"
    }
   ],
   "source": [
    "tan(thetaMean[2]) # transform alpha to b_1\n",
    "mean(exp(thetaMean[3])) # transform log10(sigma) to sigma"
   ]
  },
  {
   "cell_type": "code",
   "execution_count": 21,
   "metadata": {},
   "outputs": [
    {
     "data": {
      "image/png": "[encoded data removed]",
      "text/plain": [
       "plot without title"
      ]
     },
     "metadata": {
      "image/png": {
       "height": 480,
       "width": 480
      },
      "text/plain": {
       "height": 480,
       "width": 480
      }
     },
     "output_type": "display_data"
    }
   ],
   "source": [
    "# Overplot these solutions with original data\n",
    "\n",
    "library(repr)\n",
    "options(repr.plot.width=8,repr.plot.height=8)\n",
    "\n",
    "# pdf(\"linearmodel_fits.pdf\", width=4, height=4)\n",
    "\n",
    "par(mfrow=c(1,1), mar=c(3.5,3.5,0.5,0.5), oma=0.1*c(1,1,1,1), \n",
    "    mgp=c(2.0,0.8,0), cex=1.0)\n",
    "plotCI(obsdata$x, obsdata$y, xlim=c(-0.5,9.5), ylim=c(-1,9), xaxs=\"i\", yaxs=\"i\",\n",
    "       #xlab=\"x\", ylab=\"y\", uiw=exp(thetaMAP[3]), gap=0)\n",
    "       xlab=\"x\", ylab=\"y\", uiw=exp(thetaMean[3]), gap=0)\n",
    "#abline(a=thetaMAP[1], b=tan(thetaMAP[2]), lw=2, col='green')     # MAP  model\n",
    "abline(a=thetaMean[1], b=tan(thetaMean[2]), lw=2, col='green')     # MEAN  model\n",
    "abline(a=modMat[1],   b=modMat[2], col=\"red\", lw=2) # true model\n",
    "#\n",
    "# Compare this with the result from ML estimation from lm()\n",
    "abline(lm(obsdata$y ~ obsdata$x), col=\"black\", lty=2)\n",
    "\n",
    "# dev.off()"
   ]
  },
  {
   "cell_type": "markdown",
   "metadata": {},
   "source": [
    "### 2. rjags"
   ]
  },
  {
   "cell_type": "code",
   "execution_count": 22,
   "metadata": {},
   "outputs": [
    {
     "name": "stderr",
     "output_type": "stream",
     "text": [
      "Warning message in file(modfile, \"rt\"):\n",
      "“cannot open file 'linearmodel.bug': No such file or directory”\n"
     ]
    },
    {
     "name": "stdout",
     "output_type": "stream",
     "text": [
      "Error in file(modfile, \"rt\") : cannot open the connection\n"
     ]
    },
    {
     "ename": "ERROR",
     "evalue": "Error in jags.model(\"linearmodel.bug\", data = list(obsx = obsdata$x, obsy = obsdata$y), : Cannot open model file \"linearmodel.bug\"\n",
     "output_type": "error",
     "traceback": [
      "Error in jags.model(\"linearmodel.bug\", data = list(obsx = obsdata$x, obsy = obsdata$y), : Cannot open model file \"linearmodel.bug\"\nTraceback:\n",
      "1. jags.model(\"linearmodel.bug\", data = list(obsx = obsdata$x, obsy = obsdata$y), \n .     inits = list(theta_1 = 2, theta_2 = pi/8, theta_3 = log(3)), \n .     n.chains = 3, n.adapt = 1000)",
      "2. stop(paste(\"Cannot open model file \\\"\", modfile, \"\\\"\", sep = \"\"))"
     ]
    }
   ],
   "source": [
    "thetaInit <- c(2, pi/8, log(3))\n",
    "\n",
    "m <- jags.model(\"linearmodel.bug\", data=list('obsx'=obsdata$x, 'obsy' = obsdata$y),inits=list(\n",
    "                        'theta_1'=2, 'theta_2' = pi/8, 'theta_3'= log(3)), \n",
    "                n.chains=3, n.adapt=1000)"
   ]
  },
  {
   "cell_type": "code",
   "execution_count": 23,
   "metadata": {},
   "outputs": [
    {
     "ename": "ERROR",
     "evalue": "Error in print(m): object 'm' not found\n",
     "output_type": "error",
     "traceback": [
      "Error in print(m): object 'm' not found\nTraceback:\n",
      "1. print(m)"
     ]
    }
   ],
   "source": [
    "print(m)"
   ]
  },
  {
   "cell_type": "code",
   "execution_count": 55,
   "metadata": {},
   "outputs": [],
   "source": [
    "mcmc.samples <- coda.samples(m, c('theta_1', 'theta_2','theta_3'), n.iter=5000)"
   ]
  },
  {
   "cell_type": "code",
   "execution_count": 56,
   "metadata": {},
   "outputs": [
    {
     "name": "stdout",
     "output_type": "stream",
     "text": [
      "List of 3\n",
      " $ : 'mcmc' num [1:5000, 1:3] -0.415 -1.198 -0.564 -0.409 -0.169 ...\n",
      "  ..- attr(*, \"dimnames\")=List of 2\n",
      "  .. ..$ : NULL\n",
      "  .. ..$ : chr [1:3] \"theta_1\" \"theta_2\" \"theta_3\"\n",
      "  ..- attr(*, \"mcpar\")= num [1:3] 1001 6000 1\n",
      " $ : 'mcmc' num [1:5000, 1:3] 0.6264 0.6287 0.6448 -0.199 -0.0613 ...\n",
      "  ..- attr(*, \"dimnames\")=List of 2\n",
      "  .. ..$ : NULL\n",
      "  .. ..$ : chr [1:3] \"theta_1\" \"theta_2\" \"theta_3\"\n",
      "  ..- attr(*, \"mcpar\")= num [1:3] 1001 6000 1\n",
      " $ : 'mcmc' num [1:5000, 1:3] -0.0516 -0.1928 0.3467 0.0197 0.4706 ...\n",
      "  ..- attr(*, \"dimnames\")=List of 2\n",
      "  .. ..$ : NULL\n",
      "  .. ..$ : chr [1:3] \"theta_1\" \"theta_2\" \"theta_3\"\n",
      "  ..- attr(*, \"mcpar\")= num [1:3] 1001 6000 1\n",
      " - attr(*, \"class\")= chr \"mcmc.list\"\n"
     ]
    }
   ],
   "source": [
    "str(mcmc.samples)"
   ]
  },
  {
   "cell_type": "code",
   "execution_count": 57,
   "metadata": {},
   "outputs": [
    {
     "data": {
      "image/png": "[encoded data removed]",
      "text/plain": [
       "Plot with title \"Density of theta_3\""
      ]
     },
     "metadata": {
      "image/png": {
       "height": 480,
       "width": 480
      }
     },
     "output_type": "display_data"
    }
   ],
   "source": [
    "plot(mcmc.samples)"
   ]
  },
  {
   "cell_type": "code",
   "execution_count": 58,
   "metadata": {},
   "outputs": [
    {
     "data": {
      "text/plain": [
       "\n",
       "Iterations = 1001:6000\n",
       "Thinning interval = 1 \n",
       "Number of chains = 3 \n",
       "Sample size per chain = 5000 \n",
       "\n",
       "1. Empirical mean and standard deviation for each variable,\n",
       "   plus standard error of the mean:\n",
       "\n",
       "            Mean      SD Naive SE Time-series SE\n",
       "theta_1  0.04554 0.47165 0.003851       0.010264\n",
       "theta_2  0.76651 0.04948 0.000404       0.001148\n",
       "theta_3 -0.24208 0.26255 0.002144       0.003535\n",
       "\n",
       "2. Quantiles for each variable:\n",
       "\n",
       "           2.5%     25%      50%      75%  97.5%\n",
       "theta_1 -0.8867 -0.2493  0.03959  0.33676 1.0010\n",
       "theta_2  0.6592  0.7386  0.77011  0.79833 0.8569\n",
       "theta_3 -0.6948 -0.4261 -0.26181 -0.08002 0.3266\n"
      ]
     },
     "metadata": {},
     "output_type": "display_data"
    }
   ],
   "source": [
    "summary(mcmc.samples)"
   ]
  },
  {
   "cell_type": "code",
   "execution_count": 59,
   "metadata": {},
   "outputs": [
    {
     "data": {
      "text/html": [
       "<style>\n",
       ".list-inline {list-style: none; margin:0; padding: 0}\n",
       ".list-inline>li {display: inline-block}\n",
       ".list-inline>li:not(:last-child)::after {content: \"\\00b7\"; padding: 0 .5ex}\n",
       "</style>\n",
       "<ol class=list-inline><li>0.0455426248143596</li><li>0.766507120366487</li><li>-0.24207524154679</li></ol>\n"
      ],
      "text/latex": [
       "\\begin{enumerate*}\n",
       "\\item 0.0455426248143596\n",
       "\\item 0.766507120366487\n",
       "\\item -0.24207524154679\n",
       "\\end{enumerate*}\n"
      ],
      "text/markdown": [
       "1. 0.0455426248143596\n",
       "2. 0.766507120366487\n",
       "3. -0.24207524154679\n",
       "\n",
       "\n"
      ],
      "text/plain": [
       "[1]  0.04554262  0.76650712 -0.24207524"
      ]
     },
     "metadata": {},
     "output_type": "display_data"
    }
   ],
   "source": [
    "thetaMean <- thetaTrue\n",
    "thetaMean[1] <- mean(unlist(mcmc.samples[,1]))\n",
    "thetaMean[2] <- mean(unlist(mcmc.samples[,2]))\n",
    "thetaMean[3] <- mean(unlist(mcmc.samples[,3]))\n",
    "\n",
    "thetaMean"
   ]
  },
  {
   "cell_type": "code",
   "execution_count": 60,
   "metadata": {},
   "outputs": [
    {
     "data": {
      "text/html": [
       "<style>\n",
       ".list-inline {list-style: none; margin:0; padding: 0}\n",
       ".list-inline>li {display: inline-block}\n",
       ".list-inline>li:not(:last-child)::after {content: \"\\00b7\"; padding: 0 .5ex}\n",
       "</style>\n",
       "<ol class=list-inline><li>0.0455426248143596</li><li>0.766507120366487</li><li>-0.24207524154679</li></ol>\n"
      ],
      "text/latex": [
       "\\begin{enumerate*}\n",
       "\\item 0.0455426248143596\n",
       "\\item 0.766507120366487\n",
       "\\item -0.24207524154679\n",
       "\\end{enumerate*}\n"
      ],
      "text/markdown": [
       "1. 0.0455426248143596\n",
       "2. 0.766507120366487\n",
       "3. -0.24207524154679\n",
       "\n",
       "\n"
      ],
      "text/plain": [
       "[1]  0.04554262  0.76650712 -0.24207524"
      ]
     },
     "metadata": {},
     "output_type": "display_data"
    }
   ],
   "source": [
    "thetaMean"
   ]
  },
  {
   "cell_type": "code",
   "execution_count": 61,
   "metadata": {},
   "outputs": [
    {
     "data": {
      "text/html": [
       "0.962914093651362"
      ],
      "text/latex": [
       "0.962914093651362"
      ],
      "text/markdown": [
       "0.962914093651362"
      ],
      "text/plain": [
       "[1] 0.9629141"
      ]
     },
     "metadata": {},
     "output_type": "display_data"
    },
    {
     "data": {
      "text/html": [
       "0.784997110932873"
      ],
      "text/latex": [
       "0.784997110932873"
      ],
      "text/markdown": [
       "0.784997110932873"
      ],
      "text/plain": [
       "[1] 0.7849971"
      ]
     },
     "metadata": {},
     "output_type": "display_data"
    }
   ],
   "source": [
    "tan(thetaMean[2]) # transform alpha to b_1\n",
    "mean(exp(thetaMean[3])) # transform log10(sigma) to sigma"
   ]
  },
  {
   "cell_type": "code",
   "execution_count": 62,
   "metadata": {},
   "outputs": [
    {
     "data": {
      "image/png": "[encoded data removed]",
      "text/plain": [
       "plot without title"
      ]
     },
     "metadata": {
      "image/png": {
       "height": 480,
       "width": 480
      }
     },
     "output_type": "display_data"
    }
   ],
   "source": [
    "# Overplot these solutions with original data\n",
    "library(gplots) # for plotCI\n",
    "library(repr)\n",
    "options(repr.plot.width=8,repr.plot.height=8)\n",
    "\n",
    "# pdf(\"linearmodel_fits.pdf\", width=4, height=4)\n",
    "\n",
    "par(mfrow=c(1,1), mar=c(3.5,3.5,0.5,0.5), oma=0.1*c(1,1,1,1), \n",
    "    mgp=c(2.0,0.8,0), cex=1.0)\n",
    "plotCI(obsdata$x, obsdata$y, xlim=c(-0.5,9.5), ylim=c(-1,9), xaxs=\"i\", yaxs=\"i\",\n",
    "       #xlab=\"x\", ylab=\"y\", uiw=exp(thetaMAP[3]), gap=0)\n",
    "       xlab=\"x\", ylab=\"y\", uiw=exp(thetaMean[3]), gap=0)\n",
    "#abline(a=thetaMAP[1], b=tan(thetaMAP[2]), lw=2, col='green')     # MAP  model\n",
    "abline(a=thetaMean[1], b=tan(thetaMean[2]), lw=2, col='green')     # MEAN  model\n",
    "abline(a=modMat[1],   b=modMat[2], col=\"red\", lw=2) # true model\n",
    "#\n",
    "# Compare this with the result from ML estimation from lm()\n",
    "abline(lm(obsdata$y ~ obsdata$x), col=\"black\", lty=2)\n",
    "\n",
    "# dev.off()\n"
   ]
  },
  {
   "cell_type": "code",
   "execution_count": 63,
   "metadata": {},
   "outputs": [
    {
     "data": {
      "image/png": "[encoded data removed]",
      "text/plain": [
       "plot without title"
      ]
     },
     "metadata": {
      "image/png": {
       "height": 480,
       "width": 480
      }
     },
     "output_type": "display_data"
    }
   ],
   "source": [
    "# install.packages('bayesplot')\n",
    "library(\"bayesplot\")\n",
    "library(\"ggplot2\")\n",
    "\n",
    "mcmc_trace(results[[1]])"
   ]
  },
  {
   "cell_type": "code",
   "execution_count": null,
   "metadata": {},
   "outputs": [],
   "source": []
  }
 ],
 "metadata": {
  "kernelspec": {
   "display_name": "R",
   "language": "R",
   "name": "ir"
  },
  "language_info": {
   "codemirror_mode": "r",
   "file_extension": ".r",
   "mimetype": "text/x-r-source",
   "name": "R",
   "pygments_lexer": "r",
   "version": "3.6.3"
  }
 },
 "nbformat": 4,
 "nbformat_minor": 2
}
